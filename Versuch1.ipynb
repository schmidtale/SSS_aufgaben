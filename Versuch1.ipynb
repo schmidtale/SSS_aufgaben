{
 "cells": [
  {
   "cell_type": "code",
   "execution_count": null,
   "id": "4c4a3c43-7e5c-451a-adb1-ba5f804a98f0",
   "metadata": {},
   "outputs": [],
   "source": []
  },
  {
   "metadata": {},
   "cell_type": "markdown",
   "source": [
    " Erstellen Sie eine Python-Funktion, welche die Daten aus der Datei einliest (verwenden Sie\n",
    " dazu die Numpy-Funktion genfromtxt()), von den Daten die ersten 1000 Werte überspringt\n",
    " und aus den nächsten Werten (nehmen Sie eine sinnvolle Anzahl von Messungen) den\n",
    " Mittelwert und die Standardabweichung berechnet (der Einschwingvorgang wird dadurch\n",
    " ignoriert). Vergleichen Sie die Ergebnisse mit den Werten aus Ihrer gemessenen Tabelle.\n",
    " Stellen Sie die gefundene Übertragungsfunktion bzw. Kennlinie im Notebook graphisch mit\n",
    " Python bzw. Matplotlib dar."
   ],
   "id": "761703baa244c74e"
  },
  {
   "metadata": {
    "ExecuteTime": {
     "end_time": "2024-11-01T07:43:53.439147Z",
     "start_time": "2024-11-01T07:43:52.918955Z"
    }
   },
   "cell_type": "code",
   "source": [
    "import numpy as np\n",
    "\n",
    "# use genfromtxt to read the data from 11 files called V1_10.csv to V1_70.csv\n",
    "def read_data():\n",
    "    data = []\n",
    "    for i in range(10, 71):\n",
    "        data.append(np.genfromtxt(f\"V1_{i}.csv\", delimiter=\",\", skip_header=1000))\n",
    "    return data\n"
   ],
   "id": "de2cbf104d2bc7a0",
   "outputs": [],
   "execution_count": 1
  },
  {
   "metadata": {},
   "cell_type": "code",
   "outputs": [],
   "execution_count": null,
   "source": "",
   "id": "69da63a81c093806"
  }
 ],
 "metadata": {
  "kernelspec": {
   "display_name": "Python 3 (ipykernel)",
   "language": "python",
   "name": "python3"
  },
  "language_info": {
   "codemirror_mode": {
    "name": "ipython",
    "version": 3
   },
   "file_extension": ".py",
   "mimetype": "text/x-python",
   "name": "python",
   "nbconvert_exporter": "python",
   "pygments_lexer": "ipython3",
   "version": "3.12.4"
  }
 },
 "nbformat": 4,
 "nbformat_minor": 5
}
