{
 "cells": [
  {
   "metadata": {},
   "cell_type": "markdown",
   "source": [
    "Routine, die das Bild einliest (Befehl: cv2.imread()) und die\n",
    "einzelnen Grauwertstufen als Unterbilder aus dem Originalbild ausliest.\n",
    "Bestimmung des Mittelwertes und der Standardabweichung für jede Stufe und die der Grau\n",
    "werte."
   ],
   "id": "a68e38a7b9d6f735"
  },
  {
   "metadata": {
    "ExecuteTime": {
     "end_time": "2024-11-16T07:49:49.700883Z",
     "start_time": "2024-11-16T07:49:47.320201Z"
    }
   },
   "cell_type": "code",
   "source": [
    "import numpy as np\n",
    "import os\n",
    "import cv2\n",
    "\n",
    "# get current working directory\n",
    "path = os.getenv('DATA_PATH')\n",
    "if not path:\n",
    "    raise ValueError(\"DATA_PATH environment variable is not set\")\n",
    "\n",
    "filename = f\"{path}\\\\Versuch2_Messungen\\\\versuch_2_graukeil.png\"\n",
    "src = cv2.imread(filename)\n",
    "image = cv2.cvtColor(src, cv2.COLOR_BGR2GRAY)\n",
    "\n",
    "white = image[:, 0:202] # first pixels for white\n",
    "light_grey = image[:, 223:395] # next pixels for light grey\n",
    "mid_grey = image[:, 411:586] # next pixels for mid grey\n",
    "dark_grey = image[:, 597:764] # next pixels for dark grey\n",
    "black = image[:, 779:960] # last pixels for black\n",
    "\n",
    "output_path = os.path.join(path, \"Grauwertstufen\") # output directory\n",
    "os.makedirs(output_path, exist_ok=True) # create directory if it does not exist\n",
    "# Save grayscale images\n",
    "cv2.imwrite(os.path.join(output_path, \"white.png\"), white)\n",
    "cv2.imwrite(os.path.join(output_path, \"light_grey.png\"), light_grey)\n",
    "cv2.imwrite(os.path.join(output_path, \"mid_grey.png\"), mid_grey)\n",
    "cv2.imwrite(os.path.join(output_path, \"dark_grey.png\"), dark_grey)\n",
    "cv2.imwrite(os.path.join(output_path, \"black.png\"), black)\n",
    "\n",
    "mean_white = np.mean(white)\n",
    "mean_light_grey = np.mean(light_grey)\n",
    "mean_mid_grey = np.mean(mid_grey)\n",
    "mean_dark_grey = np.mean(dark_grey)\n",
    "mean_black = np.mean(black)\n",
    "\n",
    "std_white = np.std(white, ddof=1)\n",
    "std_light_grey = np.std(light_grey, ddof=1)\n",
    "std_mid_grey = np.std(mid_grey, ddof=1)\n",
    "std_dark_grey = np.std(dark_grey, ddof=1)\n",
    "std_black = np.std(black, ddof=1)\n",
    "\n",
    "# Display mean and std as table\n",
    "import pandas as pd\n",
    "data = {\n",
    "    'Grauwertstufe': ['Weiß', 'Hellgrau', 'Mittelgrau', 'Dunkelgrau', 'Schwarz'],\n",
    "    'Mittelwert': [mean_white, mean_light_grey, mean_mid_grey, mean_dark_grey, mean_black],\n",
    "    'Standardabweichung': [std_white, std_light_grey, std_mid_grey, std_dark_grey, std_black]\n",
    "}\n",
    "df = pd.DataFrame(data)\n",
    "print(df.to_string(index=False))\n",
    "\n",
    "\n",
    "window_name = 'Graukeil'\n",
    "cv2.imshow(window_name, image)\n",
    "cv2.waitKey(0)\n",
    "cv2.destroyAllWindows()"
   ],
   "id": "289f26d2b0e15925",
   "outputs": [
    {
     "name": "stdout",
     "output_type": "stream",
     "text": [
      "Grauwertstufe  Mittelwert  Standardabweichung\n",
      "         Weiß  206.681321            3.276231\n",
      "     Hellgrau  156.214400            2.834210\n",
      "   Mittelgrau  108.265504            4.634426\n",
      "   Dunkelgrau   61.489279            5.040507\n",
      "      Schwarz   27.984126            2.667411\n"
     ]
    }
   ],
   "execution_count": 1
  },
  {
   "metadata": {},
   "cell_type": "markdown",
   "source": [
    "Routine, die die 10 Bilder einliest, in double umwandelt, die Farbbilder\n",
    "in Grauwertbilder umrechnet und ihren pixelweisen Mittelwert berechnet. \n",
    "Das Mittelwertbild ist das Dunkelbild für die gewählte\n",
    "Belichtungszeit. Das Dunkelbild wird kontrastmaximiert dargestellt."
   ],
   "id": "2e50e7f85ba77ef2"
  },
  {
   "metadata": {
    "ExecuteTime": {
     "end_time": "2024-11-16T08:35:57.739027Z",
     "start_time": "2024-11-16T08:35:54.018744Z"
    }
   },
   "cell_type": "code",
   "source": [
    "images = []\n",
    "# Save 10 darf frame images as double\n",
    "for i in range(1, 11):\n",
    "    filename = f\"{path}\\\\Versuch2_Messungen\\\\versuch_2_dunkelbild{i}.png\"\n",
    "    src = cv2.imread(filename)\n",
    "    image = cv2.cvtColor(src, cv2.COLOR_BGR2GRAY)\n",
    "    image = image.astype(np.float64)\n",
    "    images.append(image)\n",
    "\n",
    "# Calculate mean for each pixel\n",
    "mean_image = np.zeros(images[0].shape, dtype=np.float64)\n",
    "for line in range(images[0].shape[0]):\n",
    "    for row in range(images[0].shape[1]):\n",
    "        summe = 0\n",
    "        for image in images:\n",
    "            summe += image[line][row]\n",
    "        mean = summe / len(images)\n",
    "        mean_image[line][row] = mean\n",
    "\n",
    "# Convert mean image to uint8, BGR and save it\n",
    "mean_image_uint8 = np.clip(mean_image, 0, 255).astype(np.uint8)\n",
    "mean_image_uint8 = cv2.cvtColor(mean_image_uint8, cv2.COLOR_GRAY2BGR)\n",
    "cv2.imwrite(os.path.join(output_path, \"dunkelbild_mittelwert.png\"), mean_image_uint8)\n",
    "\n",
    "# read the dunkelbild file \n",
    "image_path = os.path.join(output_path, \"dunkel_mittel_neu_kontrast_max.png\") \n",
    "src = cv2.imread(image_path)\n",
    "image = cv2.cvtColor(src, cv2.COLOR_BGR2GRAY)\n",
    "# show the dark frame image with maximized contrast\n",
    "window_name = 'Dunkelbild Mittelwert Kontrastmaximiert'\n",
    "cv2.imshow(window_name, image)\n",
    "cv2.waitKey(0)\n",
    "cv2.destroyAllWindows()"
   ],
   "id": "d667095fdbba0682",
   "outputs": [],
   "execution_count": 22
  },
  {
   "metadata": {
    "ExecuteTime": {
     "end_time": "2024-11-16T07:49:53.276202Z",
     "start_time": "2024-11-16T07:49:53.273022Z"
    }
   },
   "cell_type": "code",
   "source": "",
   "id": "5ccd3fc99390c134",
   "outputs": [],
   "execution_count": 3
  }
 ],
 "metadata": {
  "kernelspec": {
   "display_name": "Python 3",
   "language": "python",
   "name": "python3"
  },
  "language_info": {
   "codemirror_mode": {
    "name": "ipython",
    "version": 2
   },
   "file_extension": ".py",
   "mimetype": "text/x-python",
   "name": "python",
   "nbconvert_exporter": "python",
   "pygments_lexer": "ipython2",
   "version": "2.7.6"
  }
 },
 "nbformat": 4,
 "nbformat_minor": 5
}
