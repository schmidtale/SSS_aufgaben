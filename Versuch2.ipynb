{
 "cells": [
  {
   "metadata": {},
   "cell_type": "markdown",
   "source": [
    "Routine, die das Bild einliest (Befehl: cv2.imread()) und die\n",
    "einzelnen Grauwertstufen als Unterbilder aus dem Originalbild ausliest."
   ],
   "id": "a68e38a7b9d6f735"
  },
  {
   "metadata": {
    "ExecuteTime": {
     "end_time": "2024-11-15T17:27:35.714231Z",
     "start_time": "2024-11-15T17:27:32.650134Z"
    }
   },
   "cell_type": "code",
   "source": [
    "import os\n",
    "import cv2\n",
    "\n",
    "# get current working directory\n",
    "path = os.getenv('DATA_PATH')\n",
    "if not path:\n",
    "    raise ValueError(\"DATA_PATH environment variable is not set\")\n",
    "\n",
    "filename = f\"{path}\\\\Versuch2_Messungen\\\\versuch_2_graukeil.png\"\n",
    "src = cv2.imread(filename)\n",
    "image = cv2.cvtColor(src, cv2.COLOR_BGR2GRAY)\n",
    "\n",
    "white = image[:, 0:192] # first 192 pixels for white\n",
    "light_grey = image[:, 193:385] # next 192 pixels for light grey\n",
    "mid_grey = image[:, 386:576] # next 192 pixels for mid grey\n",
    "dark_grey = image[:, 577:768] # next 192 pixels for dark grey\n",
    "black = image[:, 769:960] # last 192 pixels for black\n",
    "\n",
    "output_path = os.path.join(path, \"Grauwertstufen\") # output directory\n",
    "os.makedirs(output_path, exist_ok=True) # create directory if it does not exist\n",
    "cv2.imwrite(os.path.join(output_path, \"white.png\"), white)\n",
    "cv2.imwrite(os.path.join(output_path, \"light_grey.png\"), light_grey)\n",
    "cv2.imwrite(os.path.join(output_path, \"mid_grey.png\"), mid_grey)\n",
    "cv2.imwrite(os.path.join(output_path, \"dark_grey.png\"), dark_grey)\n",
    "cv2.imwrite(os.path.join(output_path, \"black.png\"), black)\n",
    "\n",
    "window_name = 'Graukeil'\n",
    "cv2.imshow(window_name, image)\n",
    "cv2.waitKey(0)\n",
    "cv2.destroyAllWindows()"
   ],
   "id": "289f26d2b0e15925",
   "outputs": [],
   "execution_count": 4
  },
  {
   "metadata": {},
   "cell_type": "code",
   "outputs": [],
   "execution_count": null,
   "source": "",
   "id": "c5959309dfb4efe7"
  }
 ],
 "metadata": {
  "kernelspec": {
   "display_name": "Python 3",
   "language": "python",
   "name": "python3"
  },
  "language_info": {
   "codemirror_mode": {
    "name": "ipython",
    "version": 2
   },
   "file_extension": ".py",
   "mimetype": "text/x-python",
   "name": "python",
   "nbconvert_exporter": "python",
   "pygments_lexer": "ipython2",
   "version": "2.7.6"
  }
 },
 "nbformat": 4,
 "nbformat_minor": 5
}
